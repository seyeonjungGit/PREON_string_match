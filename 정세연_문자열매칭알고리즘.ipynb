{
  "nbformat": 4,
  "nbformat_minor": 0,
  "metadata": {
    "colab": {
      "name": "junior_정세연_문자열매칭알고리즘.ipynb",
      "provenance": [],
      "toc_visible": true
    },
    "kernelspec": {
      "name": "python3",
      "display_name": "Python 3"
    },
    "language_info": {
      "name": "python"
    }
  },
  "cells": [
    {
      "cell_type": "markdown",
      "source": [
        "# 문자열 매칭 알고리즘 구현\n"
      ],
      "metadata": {
        "id": "kLT8shaeWJxi"
      }
    },
    {
      "cell_type": "code",
      "source": [
        "## Input\n",
        "# pattern set\n",
        "N:int = input()  # 1<= N <= 1000\n",
        "S:str = input().split(',')\n",
        "\n",
        "## new line 구분(편의상 comma로 대체)\n",
        "# S = []\n",
        "# for _ in range(int(N)):\n",
        "#   S.append(input())  # <=100\n",
        "\n",
        "# parent set\n",
        "Q:int = input()  # int, 1<= N <= 1000\n",
        "Q1:str = input().split(',')\n",
        "\n",
        "## new line 구분(편의상 comma로 대체)\n",
        "# Q1 = []\n",
        "# for _ in range(int(Q)):\n",
        "#   Q1.append(input()) # <= 10000"
      ],
      "metadata": {
        "colab": {
          "base_uri": "https://localhost:8080/"
        },
        "id": "v7pwlhBMpwBa",
        "outputId": "0a6dfb72-517d-4cae-9884-9c5a7c9562fa"
      },
      "execution_count": null,
      "outputs": [
        {
          "name": "stdout",
          "output_type": "stream",
          "text": [
            "9\n",
            "aaa,aaaabb,aabbcc,abb,bcc,bbcc,aabbccdd,aaabb,cccd\n",
            "1\n",
            "aaaabbaabbccdd\n"
          ]
        }
      ]
    },
    {
      "cell_type": "code",
      "source": [
        "print(S)\n",
        "print(Q1)"
      ],
      "metadata": {
        "colab": {
          "base_uri": "https://localhost:8080/"
        },
        "id": "BFzKGyAFzrQu",
        "outputId": "1b2aad93-e294-45ed-dcba-a2ef21b8586c"
      },
      "execution_count": null,
      "outputs": [
        {
          "output_type": "stream",
          "name": "stdout",
          "text": [
            "['aaa', 'aaaabb', 'aabbcc', 'abb', 'bcc', 'bbcc', 'aabbccdd', 'aaabb', 'cccd']\n",
            "['aaaabbaabbccdd']\n"
          ]
        }
      ]
    },
    {
      "cell_type": "markdown",
      "source": [
        "## 1.문자열의 여러 부분 문자열 중 하나라도 집합 S에 있으면 'YES'를 출력하고, 아무것도 없으면 'NO'를 출력한다."
      ],
      "metadata": {
        "id": "TAldJriBjs4m"
      }
    },
    {
      "cell_type": "code",
      "source": [
        "## Input\n",
        "# pattern set\n",
        "print('<  $$  입력  $$  >')\n",
        "N:int = input()  # 1<= N <= 1000\n",
        "S:str = input().split(',')\n",
        "\n",
        "# parent set\n",
        "Q:int = input()  # int, 1<= N <= 1000\n",
        "Q1:str = input().split(',')\n",
        "\n",
        "\n",
        "## Rabin-Karp 알고리즘 구현\n",
        "\n",
        "def findString3(pattern:str, parent:str) : \n",
        "  parrentSize = len(parent)  # 긴 글의 길이\n",
        "  patternSize = len(pattern)  # 패턴의 길이\n",
        "  parentHash = 0   # 해시값\n",
        "  patternHash = 0   \n",
        "  power = 1  # 제곱수\n",
        "  finded = False\n",
        "  \n",
        "  for i in range(parrentSize - patternSize + 1):  # 패턴을 긴 글에 sliding\n",
        "    if i == 0:    # parentHash, patternHash의 초기값 설정\n",
        "      for j in range(patternSize):\n",
        "        parentHash += parent.encode()[patternSize - 1 - j]*power  # 오른쪽부터 왼쪽으로 해시값을 구하기  ex) (3 -1 -0 = 2 )*1, (3 -1 -1 = 1 )*2, (3-1-2 = 0)*4\n",
        "        patternHash += pattern.encode()[patternSize - 1 - j]*power  \n",
        "        if j < patternSize -1 :  # 왼쪽으로 한칸씩 갈수록 0승, 1승, 2승....\n",
        "          power*=2\n",
        "      if parentHash == patternHash:  # 만약 해시값이 동일할 때는 문자 한개씩 비교 확인\n",
        "        finded = True\n",
        "        for k in range(patternSize):\n",
        "          if parent[i+k] != pattern[k] :\n",
        "            finded = False\n",
        "            break\n",
        "        if finded == True:\n",
        "          print('YES')\n",
        "          break\n",
        "\n",
        "    else: # 한 칸씩 옆으로 slide 했을 때\n",
        "      parentHash = 2*(parentHash - parent.encode()[i-1]*power) + parent.encode()[patternSize -1 + i]  # 제일 앞의 값을 빼주고 2를 곱한 뒤, 새로 들어온 값을 넣어준다. \n",
        "      if parentHash == patternHash:  \n",
        "        finded = True\n",
        "        for k in range(patternSize):\n",
        "          if parent[i+k] != pattern[k] :\n",
        "            finded = False\n",
        "            break\n",
        "        if finded == True:\n",
        "          print('YES')\n",
        "          break\n",
        "  \n",
        "  if finded == False:\n",
        "    print(\"NO\")\n",
        "\n",
        "\n",
        "## Output\n",
        "print('\\n<  $$  출력  $$  >')\n",
        "for parent in range(int(Q)):\n",
        "  print('- 문자열 :', Q1[parent])\n",
        "  for pattern in range(int(N)):   \n",
        "    findString3(S[pattern], Q1[parent])\n",
        "  print('')"
      ],
      "metadata": {
        "colab": {
          "base_uri": "https://localhost:8080/"
        },
        "id": "SGMcCe_asyII",
        "outputId": "bc957103-9940-4ed7-df02-bb5a3a62e9e4"
      },
      "execution_count": null,
      "outputs": [
        {
          "output_type": "stream",
          "name": "stdout",
          "text": [
            "<  $$  입력  $$  >\n",
            "9\n",
            "aaa,aaaabb,aabbcc,abb,bcc,bbcc,aabbccdd,aaabb,cccd\n",
            "1\n",
            "aaaabbaabbccdd\n",
            "\n",
            "<  $$  출력  $$  >\n",
            "- 문자열 : aaaabbaabbccdd\n",
            "YES\n",
            "YES\n",
            "YES\n",
            "YES\n",
            "YES\n",
            "YES\n",
            "YES\n",
            "YES\n",
            "NO\n",
            "\n"
          ]
        }
      ]
    },
    {
      "cell_type": "markdown",
      "source": [
        "## 2.주어진 문자열의 여러부분 문자열 중 처음 매칭된 패턴과 문자열 시작 포지션을 출력한다."
      ],
      "metadata": {
        "id": "fWfXkBqmjvxc"
      }
    },
    {
      "cell_type": "code",
      "source": [
        "## Input\n",
        "# pattern set\n",
        "print('<  $$  입력  $$  >')\n",
        "N:int = input()  # 1<= N <= 1000\n",
        "S:str = input().split(',')\n",
        "\n",
        "# parent set\n",
        "Q:int = input()  # int, 1<= N <= 1000\n",
        "Q1:str = input().split(',')\n",
        "\n",
        "\n",
        "## Rabin-Karp 알고리즘 구현\n",
        "\n",
        "def findString3(pattern:str, parent:str) : \n",
        "  parrentSize = len(parent)  # 긴 글의 길이\n",
        "  patternSize = len(pattern)  # 패턴의 길이\n",
        "  parentHash = 0   # 해시값\n",
        "  patternHash = 0   \n",
        "  power = 1  # 제곱수\n",
        "\n",
        "  for i in range(parrentSize - patternSize + 1):  # 패턴을 긴 글에 sliding\n",
        "    if i == 0:    # parentHash, patternHash의 초기값 설정\n",
        "      for j in range(patternSize):\n",
        "        parentHash += parent.encode()[patternSize - 1 - j]*power  # 오른쪽부터 왼쪽으로 해시값을 구하기  ex) (3 -1 -0 = 2 )*1, (3 -1 -1 = 1 )*2, (3-1-2 = 0)*4\n",
        "        patternHash += pattern.encode()[patternSize - 1 - j]*power  \n",
        "        if j < patternSize -1 :  # 왼쪽으로 한칸씩 갈수록 0승, 1승, 2승....\n",
        "          power*=2\n",
        "      if parentHash == patternHash:  # 만약 해시값이 동일할 때는 문자 한개씩 비교 확인\n",
        "        finded = True\n",
        "        for k in range(patternSize):\n",
        "          if parent[i+k] != pattern[k] :\n",
        "            finded = False\n",
        "            break\n",
        "        if finded == True:\n",
        "          print(f'# pos = {i}, pattern = {pattern}')\n",
        "          break\n",
        "\n",
        "    else: # 한 칸씩 옆으로 slide 했을 때\n",
        "      parentHash = 2*(parentHash - parent.encode()[i-1]*power) + parent.encode()[patternSize -1 + i]  # 제일 앞의 값을 빼주고 2를 곱한 뒤, 새로 들어온 값을 넣어준다. \n",
        "      if parentHash == patternHash:  \n",
        "        finded = True\n",
        "        for k in range(patternSize):\n",
        "          if parent[i+k] != pattern[k] :\n",
        "            finded = False\n",
        "            break\n",
        "        if finded == True:\n",
        "          print(f'# pos = {i}, pattern = {pattern}')\n",
        "          break\n",
        "\n",
        "\n",
        "## Output\n",
        "print('\\n<  $$  출력  $$  >')\n",
        "for parent in range(int(Q)):\n",
        "  print('- 문자열 :', Q1[parent])\n",
        "  for pattern in range(int(N)):   \n",
        "    findString3(S[pattern], Q1[parent])\n",
        "  print('')"
      ],
      "metadata": {
        "colab": {
          "base_uri": "https://localhost:8080/"
        },
        "id": "jfOL45tirxxh",
        "outputId": "3f590f68-b18c-4400-e5e0-5546dfcd5f64"
      },
      "execution_count": null,
      "outputs": [
        {
          "output_type": "stream",
          "name": "stdout",
          "text": [
            "<  $$  입력  $$  >\n",
            "9\n",
            "aaa,aaaabb,aabbcc,abb,bcc,bbcc,aabbccdd,aaabb,cccd\n",
            "1\n",
            "aaaabbaabbccdd\n",
            "\n",
            "<  $$  출력  $$  >\n",
            "- 문자열 : aaaabbaabbccdd\n",
            "# pos = 0, pattern = aaa\n",
            "# pos = 0, pattern = aaaabb\n",
            "# pos = 6, pattern = aabbcc\n",
            "# pos = 3, pattern = abb\n",
            "# pos = 9, pattern = bcc\n",
            "# pos = 8, pattern = bbcc\n",
            "# pos = 6, pattern = aabbccdd\n",
            "# pos = 1, pattern = aaabb\n",
            "\n"
          ]
        }
      ]
    },
    {
      "cell_type": "markdown",
      "source": [
        "## 3.주어진 문자열의 여러부분 문자열 중 매칭 가능한 모든 패턴과 문자열 시작 포지션을 출력한다."
      ],
      "metadata": {
        "id": "mWL0R89ZjzKl"
      }
    },
    {
      "cell_type": "code",
      "source": [
        "## Input\n",
        "# pattern set\n",
        "print('<  $$  입력  $$  >')\n",
        "N:int = input()  # 1<= N <= 1000\n",
        "S:str = input().split(',')\n",
        "\n",
        "# parent set\n",
        "Q:int = input()  # int, 1<= N <= 1000\n",
        "Q1:str = input().split(',')\n",
        "\n",
        "\n",
        "## Rabin-Karp 알고리즘 구현\n",
        "\n",
        "def findString3(pattern:str, parent:str) : \n",
        "  parrentSize = len(parent)  # 긴 글의 길이\n",
        "  patternSize = len(pattern)  # 패턴의 길이\n",
        "  parentHash = 0   # 해시값\n",
        "  patternHash = 0   \n",
        "  power = 1  # 제곱수\n",
        "\n",
        "  for i in range(parrentSize - patternSize + 1):  # 패턴을 긴 글에 sliding\n",
        "    if i == 0:    # parentHash, patternHash의 초기값 설정\n",
        "      for j in range(patternSize):\n",
        "        parentHash += parent.encode()[patternSize - 1 - j]*power  # 오른쪽부터 왼쪽으로 해시값을 구하기  ex) (3 -1 -0 = 2 )*1, (3 -1 -1 = 1 )*2, (3-1-2 = 0)*4\n",
        "        patternHash += pattern.encode()[patternSize - 1 - j]*power  \n",
        "        if j < patternSize -1 :  # 왼쪽으로 한칸씩 갈수록 0승, 1승, 2승....\n",
        "          power*=2\n",
        "      if parentHash == patternHash:  # 만약 해시값이 동일할 때는 문자 한개씩 비교 확인\n",
        "        finded = True\n",
        "        for k in range(patternSize):\n",
        "          if parent[i+k] != pattern[k] :\n",
        "            finded = False\n",
        "            break\n",
        "        if finded == True:\n",
        "          print(f'# pos = {i}, pattern = {pattern}')\n",
        "\n",
        "    else: # 한 칸씩 옆으로 slide 했을 때\n",
        "      parentHash = 2*(parentHash - parent.encode()[i-1]*power) + parent.encode()[patternSize -1 + i]  # 제일 앞의 값을 빼주고 2를 곱한 뒤, 새로 들어온 값을 넣어준다. \n",
        "      if parentHash == patternHash:\n",
        "        finded = True\n",
        "        for k in range(patternSize):\n",
        "          if parent[i+k] != pattern[k] :\n",
        "            finded = False\n",
        "            break\n",
        "        if finded == True:\n",
        "          print(f'# pos = {i}, pattern = {pattern}')\n",
        "\n",
        "\n",
        "## Output\n",
        "print('\\n<  $$  출력  $$  >')\n",
        "for parent in range(int(Q)):\n",
        "  print('- 문자열 :', Q1[parent])\n",
        "  for pattern in range(int(N)):   \n",
        "    findString3(S[pattern], Q1[parent])\n",
        "  print('')"
      ],
      "metadata": {
        "colab": {
          "base_uri": "https://localhost:8080/"
        },
        "id": "z_NXLffz5NPR",
        "outputId": "8ba5e8ae-70cb-48f7-9daa-0fd56f518756"
      },
      "execution_count": null,
      "outputs": [
        {
          "output_type": "stream",
          "name": "stdout",
          "text": [
            "<  $$  입력  $$  >\n",
            "9\n",
            "aaa,aaaabb,aabbcc,abb,bcc,bbcc,aabbccdd,aaabb,cccd\n",
            "1\n",
            "aaaabbaabbccdd\n",
            "\n",
            "<  $$  출력  $$  >\n",
            "- 문자열 : aaaabbaabbccdd\n",
            "# pos = 0, pattern = aaa\n",
            "# pos = 1, pattern = aaa\n",
            "# pos = 0, pattern = aaaabb\n",
            "# pos = 6, pattern = aabbcc\n",
            "# pos = 3, pattern = abb\n",
            "# pos = 7, pattern = abb\n",
            "# pos = 9, pattern = bcc\n",
            "# pos = 8, pattern = bbcc\n",
            "# pos = 6, pattern = aabbccdd\n",
            "# pos = 1, pattern = aaabb\n",
            "\n"
          ]
        }
      ]
    }
  ]
}